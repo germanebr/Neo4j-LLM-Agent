{
 "cells": [
  {
   "cell_type": "markdown",
   "id": "e7333700-68b8-4cca-918d-93ed87c497dc",
   "metadata": {},
   "source": [
    "# Import packages and initialize GCP connection"
   ]
  },
  {
   "cell_type": "code",
   "execution_count": 6,
   "id": "5aca1a9b-8c4b-4c75-88f3-f3521cfb3354",
   "metadata": {},
   "outputs": [],
   "source": [
    "import pandas as pd\n",
    "import vertexai.preview.generative_models as generative_models\n",
    "\n",
    "from google.cloud import aiplatform\n",
    "from google.oauth2 import service_account\n",
    "\n",
    "from typing import List, Dict\n",
    "\n",
    "from IPython.display import display, Markdown\n",
    "\n",
    "from vertexai.generative_models import GenerativeModel, Part, Tool, FunctionDeclaration, GenerationResponse\n",
    "\n",
    "from langchain_community.graphs import Neo4jGraph"
   ]
  },
  {
   "cell_type": "code",
   "execution_count": 7,
   "id": "1e42078b-0d79-4356-8d53-95f4e23e98b3",
   "metadata": {},
   "outputs": [],
   "source": [
    "credentials = service_account.Credentials.from_service_account_file(\"gcp-service-account.json\")\n",
    "\n",
    "aiplatform.init(project = 'gcp-project-id',\n",
    "                credentials = credentials)"
   ]
  },
  {
   "cell_type": "markdown",
   "id": "315e518f-568f-4315-b731-6e3811532431",
   "metadata": {},
   "source": [
    "# Functions"
   ]
  },
  {
   "cell_type": "code",
   "execution_count": 8,
   "id": "c9f2f412-75ec-4776-a1bd-9d23a08fb569",
   "metadata": {},
   "outputs": [],
   "source": [
    "def create_node_file(source_path, node_name, destiny_path=\"graph_files/\"):\n",
    "    \"\"\"Creates the CSV file of the selected node.\n",
    "    Inputs:\n",
    "        - source_path: The path of the excel file with the original data\n",
    "        - node_name: Specifies the type of node that will be created ['Adverse Event', 'SOC', 'Drug']\n",
    "        - destiny_path: The path where the node file will be stored\"\"\"\n",
    "\n",
    "    # Get the data depending on the type of node\n",
    "    if node_name == \"Drug\":\n",
    "        data = pd.read_excel(source_path,\n",
    "                             sheet_name = \"Data\")\n",
    "        data = pd.DataFrame(data = {\"drug\": data.columns[5:]})\n",
    "    \n",
    "    elif node_name == \"SOC\":\n",
    "        data = pd.read_excel(source_path,\n",
    "                             sheet_name = \"Data\",\n",
    "                             usecols = ['SOC ID', 'System Organ Class'])[:-2]\n",
    "    \n",
    "    else:\n",
    "        data = pd.read_excel(source_path,\n",
    "                             sheet_name = \"Data\",\n",
    "                             usecols = ['Adverse Event ID', 'Adverse Event'])[:-2]\n",
    "\n",
    "    # Remove duplicates\n",
    "    data.drop_duplicates(inplace = True,\n",
    "                         ignore_index = True)\n",
    "\n",
    "    # Create the CSV file\n",
    "    node_path = destiny_path + node_name + '_node.csv'\n",
    "    data.to_csv(node_path, index = False)"
   ]
  },
  {
   "cell_type": "code",
   "execution_count": 9,
   "id": "012076e3-39ac-4df0-abbb-cd4e4923e944",
   "metadata": {},
   "outputs": [],
   "source": [
    "def create_relationship(base_path, rel_name=\"CAUSES\", destiny_path=\"graph_files/\", date=\"\"):\n",
    "    \"\"\"Creates the CSV file for the selected relationship.\n",
    "    Inputs:\n",
    "        - base_path: Path of the excel file with the base data\n",
    "        - rel_name: Name of the relationship (ideally all name in UPPER CASE)\n",
    "        - destiny_path: Path where the CSV file will be created (must be the same as the nodes)\n",
    "        - date: The date the data was extracted from OFFX (only necessary for CAUSES relationship)\"\"\"\n",
    "\n",
    "    # Read the main file\n",
    "    base_data = pd.read_excel(base_path,\n",
    "                              sheet_name = \"Data\")\n",
    "\n",
    "    # Build the data depending on the type of relationship\n",
    "    if rel_name == \"CAUSES\":\n",
    "        # Get the Drug node data\n",
    "        drug_node_data = pd.read_csv(destiny_path + \"Drug_node.csv\")\n",
    "\n",
    "        # Create the dataset with the number of occurrances\n",
    "        occurrences = []\n",
    "        ae_ids = []\n",
    "        drug_names = []\n",
    "\n",
    "        for drug in range(len(drug_node_data)):\n",
    "            for ae in range(len(base_data)):\n",
    "                ae_ids.append(base_data[\"Adverse Event ID\"][ae])\n",
    "                drug_names.append(drug_node_data.iloc[drug, 0])\n",
    "                # The drug data starts at the 5th column of the base file\n",
    "                occurrences.append(base_data.iloc[ae, 5+drug])\n",
    "\n",
    "        dates = [pd.to_datetime(date, format=\"%m/%d/%Y\")] * len(occurrences)\n",
    "\n",
    "        rel_data = pd.DataFrame(data = {\"ae_id\": ae_ids,\n",
    "                                        \"drug\": drug_names,\n",
    "                                        \"reports\": occurrences,\n",
    "                                        \"date\": dates})\n",
    "    else:\n",
    "        rel_data = base_data[[\"Adverse Event ID\", \"SOC ID\"]]\n",
    "\n",
    "    # Remove null values\n",
    "    rel_data = rel_data.dropna(how = 'any',\n",
    "                               axis = 0)\n",
    "    \n",
    "    # Create the CSV file\n",
    "    rel_path = destiny_path + rel_name + '_relationship.csv'\n",
    "    rel_data.to_csv(rel_path, index = False)"
   ]
  },
  {
   "cell_type": "code",
   "execution_count": 10,
   "id": "491feada-de26-4ab9-9246-cf18fe2c8631",
   "metadata": {},
   "outputs": [],
   "source": [
    "def get_neo4j_arch():\n",
    "    \"\"\"Gets the schema of the Neo4j dataset\"\"\"\n",
    "    \n",
    "    graph = Neo4jGraph(url = \"bolt://localhost:7687\",\n",
    "                       username = \"neo4j\",\n",
    "                       password = \"12345678\")\n",
    "    \n",
    "    query = \"CALL apoc.meta.schema() YIELD value RETURN value\"\n",
    "    \n",
    "    return graph.query(query)[0]['value']"
   ]
  },
  {
   "cell_type": "code",
   "execution_count": 11,
   "id": "8f85e6ec-802a-4cea-a45f-0967e8023aab",
   "metadata": {},
   "outputs": [],
   "source": [
    "def extract_function_calls(response: GenerationResponse) -> List[Dict]:\n",
    "    \"\"\"Get the function calls detected by the LLM\n",
    "    Inputs:\n",
    "        - response: The answer you get from the LLM\"\"\"\n",
    "    function_calls = []\n",
    "    \n",
    "    if response.candidates[0].function_calls:\n",
    "        for function_call in response.candidates[0].function_calls:\n",
    "            function_call_dict = {function_call.name: {}}\n",
    "            for key, value in function_call.args.items():\n",
    "                function_call_dict[function_call.name][key] = value\n",
    "            function_calls.append(function_call_dict)\n",
    "    return function_calls"
   ]
  },
  {
   "cell_type": "code",
   "execution_count": 12,
   "id": "e2fc4ab0-7a9a-4b41-a054-79b594371acb",
   "metadata": {},
   "outputs": [],
   "source": [
    "def run_neo4j_query(query, db_url=\"bolt://localhost:7687\", user=\"neo4j\", password=\"12345678\"):\n",
    "    \"\"\"Connects to a Neo4j dataset and executes a query\n",
    "    Inputs:\n",
    "        - query: The query to be executed on Neo4j (must be Cypher code)\n",
    "        - db_url: The url of the running Neo4j dataset\n",
    "        - user: The user connected to the Neo4j dataset\n",
    "        - password: The password for connecting to the Neo4j dataset\"\"\"\n",
    "\n",
    "    # Connect to the database\n",
    "    faers_graph = Neo4jGraph(url = db_url,\n",
    "                             username = user,\n",
    "                             password = password)\n",
    "    \n",
    "    return faers_graph.query(query)"
   ]
  },
  {
   "cell_type": "code",
   "execution_count": 13,
   "id": "c2ad0783-c73b-4028-b560-7f255e51b482",
   "metadata": {},
   "outputs": [],
   "source": [
    "def initialize_gemini(tools, temp=0, max_tkn=8192, p=0.95):\n",
    "    \"\"\"Initialize the LLM to get resopnses from it.\n",
    "    Inputs:\n",
    "        - tools: The list of tools that the LLM will have available to execute\n",
    "        - temp: The LLM temperature\n",
    "        - max_tkn: Maximum number of output tokens of the LLM\n",
    "        - p: Answer selection probability for the LLM\"\"\"\n",
    "    \n",
    "    gemini = \"gemini-1.5-flash-001\"\n",
    "\n",
    "    safety_settings = {generative_models.HarmCategory.HARM_CATEGORY_UNSPECIFIED: generative_models.HarmBlockThreshold.BLOCK_NONE,\n",
    "                       generative_models.HarmCategory.HARM_CATEGORY_DANGEROUS_CONTENT: generative_models.HarmBlockThreshold.BLOCK_NONE,\n",
    "                       generative_models.HarmCategory.HARM_CATEGORY_HATE_SPEECH: generative_models.HarmBlockThreshold.BLOCK_NONE,\n",
    "                       generative_models.HarmCategory.HARM_CATEGORY_HARASSMENT: generative_models.HarmBlockThreshold.BLOCK_NONE,\n",
    "                       generative_models.HarmCategory.HARM_CATEGORY_SEXUALLY_EXPLICIT: generative_models.HarmBlockThreshold.BLOCK_NONE}\n",
    "    \n",
    "    model = GenerativeModel(gemini,\n",
    "                            generation_config = {\"temperature\": temp,\n",
    "                                                 \"max_output_tokens\": max_tkn,\n",
    "                                                 \"top_p\": p},\n",
    "                            safety_settings = safety_settings,\n",
    "                            tools = tools)\n",
    "    return model"
   ]
  },
  {
   "cell_type": "code",
   "execution_count": 14,
   "id": "cf5f21e7-1c0b-4cab-8103-f34683e7e622",
   "metadata": {},
   "outputs": [],
   "source": [
    "def call_gemini(model, question):\n",
    "    \"\"\"Makes an API call to use the LLM and get a response back\n",
    "    Inputs:\n",
    "        - model: The LLM that wants to be used\n",
    "        - question: The user question\"\"\"\n",
    "\n",
    "    chat = model.start_chat(response_validation = False)\n",
    "\n",
    "    # Get the tool calls from the LLM\n",
    "    res = chat.send_message(question)\n",
    "    function_calls = extract_function_calls(res)\n",
    "    print(function_calls)\n",
    "\n",
    "    # Gather each tool call individually (assuming the LLM only has the Neo4j tool)\n",
    "    tool_responses = []\n",
    "\n",
    "    for function_call in function_calls:\n",
    "        tool_responses.append(run_neo4j_query(function_call[\"query_neo4j\"][\"query\"]))\n",
    "\n",
    "    # Give back to the LLM the tool responses\n",
    "    final_response = chat.send_message(Part.from_function_response(name = \"query_neo4j\",\n",
    "                                                                   response = {\"content\": tool_responses}))\n",
    "    return final_response.text"
   ]
  },
  {
   "cell_type": "markdown",
   "id": "b3d35c6c-08b0-45be-9e3f-dd405896f92d",
   "metadata": {},
   "source": [
    "# Testing the code"
   ]
  },
  {
   "cell_type": "markdown",
   "id": "903fcd53-9c0a-4199-bb8b-e7e8620ebd96",
   "metadata": {},
   "source": [
    "## Creating the dataset"
   ]
  },
  {
   "cell_type": "code",
   "execution_count": 110,
   "id": "4a640384-86ef-4f11-9a3d-d505147b3727",
   "metadata": {
    "scrolled": true
   },
   "outputs": [
    {
     "name": "stdout",
     "output_type": "stream",
     "text": [
      "Creating node files\n",
      "\t> Node files created\n",
      "\n",
      "Creating relationship files\n",
      "\t> Relationship files created\n",
      "\n"
     ]
    }
   ],
   "source": [
    "# Create the node files\n",
    "source_path = 'data/source_file.xlsx'\n",
    "destiny_path = 'graph_files/'\n",
    "\n",
    "print(\"Creating node files\")\n",
    "[create_node_file(source_path, node, destiny_path) for node in [\"Adverse Event\", \"SOC\", \"Drug\"]]\n",
    "print(\"\\t> Node files created\\n\")\n",
    "\n",
    "# Create the relationship files\n",
    "print(\"Creating relationship files\")\n",
    "[create_relationship(source_path, rel, destiny_path, \"06/13/2024\") for rel in [\"CAUSES\", \"MANIFESTS_IN\"]]\n",
    "print(\"\\t> Relationship files created\\n\")"
   ]
  },
  {
   "cell_type": "markdown",
   "id": "a581868b-2038-4265-9dc7-2468e19b8232",
   "metadata": {},
   "source": [
    "## Connecting to the dataset"
   ]
  },
  {
   "cell_type": "code",
   "execution_count": 15,
   "id": "ff5522e5-524f-46b5-8ae3-6f2d21d70ab1",
   "metadata": {},
   "outputs": [],
   "source": [
    "# Create the tool definition for the LLM\n",
    "query_neo4j = FunctionDeclaration(name = \"query_neo4j\",\n",
    "                                  description = \"Get data from a Neo4j dataset\",\n",
    "                                  parameters = {\"type\": \"object\",\n",
    "                                                \"properties\": {\"query\": {\"type\": \"string\",\n",
    "                                                                         \"description\": f'The query to be executed on Neo4j (must be Cypher code) according to the following schema: {get_neo4j_arch()}'}}})\n",
    "neo4j_tool = Tool(function_declarations = [query_neo4j])\n",
    "\n",
    "# Get the model\n",
    "model = initialize_gemini([neo4j_tool])"
   ]
  },
  {
   "cell_type": "code",
   "execution_count": 16,
   "id": "de2ae4b0-d676-4088-94b6-cb5240c1540f",
   "metadata": {},
   "outputs": [
    {
     "name": "stdout",
     "output_type": "stream",
     "text": [
      "[{'query_neo4j': {'query': 'MATCH (n:SOC) RETURN count(DISTINCT n)'}}]\n",
      "There are 24 different SOCs. \n",
      "\n"
     ]
    }
   ],
   "source": [
    "# Answer your question\n",
    "question = \"How many different soc are?\"\n",
    "\n",
    "res = call_gemini(model, question)\n",
    "print(res)"
   ]
  },
  {
   "cell_type": "code",
   "execution_count": 54,
   "id": "0f1240e4-8040-4719-8fab-3b717f3ff5b0",
   "metadata": {},
   "outputs": [
    {
     "name": "stdout",
     "output_type": "stream",
     "text": [
      "The following drugs provoke Anaemia:\n",
      "\n",
      "* DTRM-12\\nPhase II  with 1 report\n",
      "* MH048\\nPhase I  with 1 report\n",
      "* poseltinib\\nPhase II  with 1 report\n",
      "* HWH486\\n  with 1 report\n",
      "* orelabrutinib\\nLaunched 2021 with 1 report\n",
      "* fenebrutinib\\nPhase III  with 1 report\n",
      "* zanubrutinib\\nLaunched 2019 with 1 report\n",
      "* LP-168\\nPhase II  with 1 report\n",
      "* luxeptinib\\nPhase I/II  with 1 report\n",
      "* spebrutinib\\nPhase I  with 1 report\n",
      "* evobrutinib\\nPhase III  with 1 report\n",
      "* nemtabrutinib\\nPhase I/II  with 1 report\n",
      "* edralbrutinib\\nPhase II  with 1 report\n",
      "* elsubrutinib\\nPhase II  with 1 report\n",
      "* acalabrutinib\\nLaunched 2017 with 1 report\n",
      "* TL-895\\nPhase II  with 1 report\n",
      "* vecabrutinib\\nPhase I/II  with 1 report\n",
      "* tolebrutinib\\nPhase III  with 1 report\n",
      "* BMS-986142\\nPhase II  with 1 report\n",
      "* M7583\\nPhase I/II  with 1 report\n",
      "* DZD-8586\\n  with 1 report\n",
      "* tirabrutinib\\nLaunched 2020 with 1 report\n",
      "* ibrutinib\\nLaunched 2013 with 1 report\n",
      "* pirtobrutinib\\nLaunched 2023 with 1 report\n",
      "* abivertinib\\nPhase II  with 1 report\n",
      "* HBW-3220\\n  with 1 report \n",
      "\n"
     ]
    }
   ],
   "source": [
    "question = \"Give me the name and number of reports of the drugs that provoque Anaemia\"\n",
    "\n",
    "res = call_gemini(model, question)\n",
    "print(res)"
   ]
  }
 ],
 "metadata": {
  "kernelspec": {
   "display_name": "Python 3 (ipykernel)",
   "language": "python",
   "name": "python3"
  },
  "language_info": {
   "codemirror_mode": {
    "name": "ipython",
    "version": 3
   },
   "file_extension": ".py",
   "mimetype": "text/x-python",
   "name": "python",
   "nbconvert_exporter": "python",
   "pygments_lexer": "ipython3",
   "version": "3.11.5"
  }
 },
 "nbformat": 4,
 "nbformat_minor": 5
}
